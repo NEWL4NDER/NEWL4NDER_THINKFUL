{
 "cells": [
  {
   "cell_type": "code",
   "execution_count": 2,
   "metadata": {},
   "outputs": [],
   "source": [
    "from sqlalchemy import create_engine"
   ]
  },
  {
   "cell_type": "code",
   "execution_count": 3,
   "metadata": {},
   "outputs": [],
   "source": [
    "postgres_user = 'dsbc_student'\n",
    "postgres_pw = '7*.8G9QH21'\n",
    "postgres_host = '142.93.121.174'\n",
    "postgres_port = '5432'\n",
    "postgres_db = 'dvdrentals'\n",
    "\n",
    "# use the credentials to start a connection\n",
    "engine = create_engine('postgresql://{}:{}@{}:{}/{}'.format(\n",
    "    postgres_user, postgres_pw, postgres_host, postgres_port, postgres_db))"
   ]
  },
  {
   "cell_type": "code",
   "execution_count": 7,
   "metadata": {},
   "outputs": [
    {
     "name": "stdout",
     "output_type": "stream",
     "text": [
      "(195, 'R')\n",
      "(210, 'NC-17')\n",
      "(194, 'PG')\n",
      "(223, 'PG-13')\n",
      "(178, 'G')\n"
     ]
    }
   ],
   "source": [
    "# Question 1: How many movies are released for each rating?\n",
    "sql = '''\n",
    "SELECT COUNT(*), rating \n",
    "FROM film\n",
    "GROUP BY rating\n",
    "'''\n",
    "\n",
    "results = engine.execute(sql)\n",
    "engine.dispose()\n",
    "rows = results.fetchall()\n",
    "for row in rows:\n",
    "    print(row)"
   ]
  },
  {
   "cell_type": "code",
   "execution_count": 9,
   "metadata": {},
   "outputs": [
    {
     "name": "stdout",
     "output_type": "stream",
     "text": [
      "(Decimal('4.7743589743589744'), 'R')\n",
      "(Decimal('5.1428571428571429'), 'NC-17')\n",
      "(Decimal('5.0824742268041237'), 'PG')\n",
      "(Decimal('5.0538116591928251'), 'PG-13')\n",
      "(Decimal('4.8370786516853933'), 'G')\n"
     ]
    }
   ],
   "source": [
    "# Question 2: What is the average rental duration for each rating?\n",
    "sql = '''\n",
    "SELECT AVG(rental_duration), rating\n",
    "FROM film\n",
    "GROUP BY rating\n",
    "'''\n",
    "\n",
    "results = engine.execute(sql)\n",
    "engine.dispose()\n",
    "rows = results.fetchall()\n",
    "for row in rows:\n",
    "    print(row)"
   ]
  },
  {
   "cell_type": "code",
   "execution_count": 11,
   "metadata": {},
   "outputs": [
    {
     "name": "stdout",
     "output_type": "stream",
     "text": [
      "115.272\n"
     ]
    }
   ],
   "source": [
    "# Question 3: What is the mean movie length? Calculate this by defining a function.\n",
    "sql = '''\n",
    "SELECT length\n",
    "FROM film\n",
    "'''\n",
    "\n",
    "movie_lengths = engine.execute(sql)\n",
    "engine.dispose()\n",
    "rows = movie_lengths.fetchall()\n",
    "\n",
    "movie_lengths = [x['length'] for x in rows]\n",
    "\n",
    "def mean(numbers):\n",
    "    total_sum = 0\n",
    "    for n in numbers:\n",
    "        total_sum += n \n",
    "    count = len(numbers)\n",
    "    avg = total_sum/ count\n",
    "    return avg\n",
    "\n",
    "print(mean(movie_lengths))"
   ]
  },
  {
   "cell_type": "code",
   "execution_count": 13,
   "metadata": {},
   "outputs": [
    {
     "name": "stdout",
     "output_type": "stream",
     "text": [
      "114.0\n"
     ]
    }
   ],
   "source": [
    "# Question 4: What is the median movie length? Calculate this by defining a function.\n",
    "sql = '''\n",
    "SELECT length\n",
    "FROM film\n",
    "'''\n",
    "\n",
    "movie_lengths = engine.execute(sql)\n",
    "engine.dispose()\n",
    "rows = movie_lengths.fetchall()\n",
    "\n",
    "movie_lengths = [x['length'] for x in rows]\n",
    "\n",
    "import math\n",
    "\n",
    "def median(numbers):\n",
    "    numbers.sort()\n",
    "    count = len(numbers)\n",
    "    isEven = count % 2 == 0\n",
    "    \n",
    "    if isEven:\n",
    "        mid = math.floor(count/ 2)\n",
    "        a = numbers[mid]\n",
    "        b = numbers[mid + 1]\n",
    "        ans = (a + b) / 2\n",
    "    else:\n",
    "        ans = numbers[math.floor(count/ 2)]\n",
    "        \n",
    "    return ans\n",
    "\n",
    "print(median(movie_lengths))\n",
    "        \n"
   ]
  },
  {
   "cell_type": "code",
   "execution_count": 14,
   "metadata": {},
   "outputs": [
    {
     "name": "stdout",
     "output_type": "stream",
     "text": [
      "40.42633181855987\n"
     ]
    }
   ],
   "source": [
    "# Question 5: Calculate the standard deviation of the movie lengths. Calculate\n",
    "# this by defining a function.\n",
    "\n",
    "sql = '''\n",
    "SELECT length\n",
    "FROM film\n",
    "'''\n",
    "\n",
    "movie_lengths = engine.execute(sql)\n",
    "engine.dispose()\n",
    "rows = movie_lengths.fetchall()\n",
    "\n",
    "movie_lengths = [x['length'] for x in rows]\n",
    "\n",
    "def standard_deviation(numbers):\n",
    "  X_bar = mean(numbers)\n",
    "  N = len(numbers)\n",
    "  total_sum = 0\n",
    "  for X in numbers:\n",
    "    diff = X - X_bar\n",
    "    squared = math.pow(diff, 2)\n",
    "    total_sum += squared\n",
    "  sigma = math.sqrt(total_sum / (N - 1))  \n",
    "  return sigma\n",
    "\n",
    "print(standard_deviation(movie_lengths))"
   ]
  },
  {
   "cell_type": "code",
   "execution_count": null,
   "metadata": {},
   "outputs": [],
   "source": []
  }
 ],
 "metadata": {
  "kernelspec": {
   "display_name": "Python 3",
   "language": "python",
   "name": "python3"
  },
  "language_info": {
   "codemirror_mode": {
    "name": "ipython",
    "version": 3
   },
   "file_extension": ".py",
   "mimetype": "text/x-python",
   "name": "python",
   "nbconvert_exporter": "python",
   "pygments_lexer": "ipython3",
   "version": "3.6.8"
  }
 },
 "nbformat": 4,
 "nbformat_minor": 2
}
