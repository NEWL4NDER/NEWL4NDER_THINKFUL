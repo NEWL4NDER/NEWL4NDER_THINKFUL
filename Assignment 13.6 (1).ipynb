{
 "cells": [
  {
   "cell_type": "code",
   "execution_count": 1,
   "metadata": {},
   "outputs": [],
   "source": [
    "# To complete this challenge, determine the five most common journals and the total articles for each. \n",
    "# Next, calculate the mean, median, and standard deviation of the open-access cost per article for each journal.\n",
    "# For a real bonus round, identify the open access prices paid by subject area.\n",
    "\n",
    "import pandas as pd\n",
    "import numpy as np\n",
    "import re"
   ]
  },
  {
   "cell_type": "code",
   "execution_count": 2,
   "metadata": {},
   "outputs": [],
   "source": [
    "df = pd.read_csv('./Thinkful/Welcome_Thinkful.csv', encoding = \"ISO-8859-1\")"
   ]
  },
  {
   "cell_type": "code",
   "execution_count": 3,
   "metadata": {},
   "outputs": [
    {
     "data": {
      "text/plain": [
       "(2127, 5)"
      ]
     },
     "execution_count": 3,
     "metadata": {},
     "output_type": "execute_result"
    }
   ],
   "source": [
    "df.shape"
   ]
  },
  {
   "cell_type": "code",
   "execution_count": 4,
   "metadata": {},
   "outputs": [
    {
     "data": {
      "text/plain": [
       "PMID/PMCID                                             object\n",
       "Publisher                                              object\n",
       "Journal title                                          object\n",
       "Article title                                          object\n",
       "COST (£) charged to Wellcome (inc VAT when charged)    object\n",
       "dtype: object"
      ]
     },
     "execution_count": 4,
     "metadata": {},
     "output_type": "execute_result"
    }
   ],
   "source": [
    "df.dtypes"
   ]
  },
  {
   "cell_type": "code",
   "execution_count": 5,
   "metadata": {},
   "outputs": [
    {
     "data": {
      "text/html": [
       "<div>\n",
       "<style scoped>\n",
       "    .dataframe tbody tr th:only-of-type {\n",
       "        vertical-align: middle;\n",
       "    }\n",
       "\n",
       "    .dataframe tbody tr th {\n",
       "        vertical-align: top;\n",
       "    }\n",
       "\n",
       "    .dataframe thead th {\n",
       "        text-align: right;\n",
       "    }\n",
       "</style>\n",
       "<table border=\"1\" class=\"dataframe\">\n",
       "  <thead>\n",
       "    <tr style=\"text-align: right;\">\n",
       "      <th></th>\n",
       "      <th>PMID/PMCID</th>\n",
       "      <th>Publisher</th>\n",
       "      <th>Journal title</th>\n",
       "      <th>Article title</th>\n",
       "      <th>COST (£) charged to Wellcome (inc VAT when charged)</th>\n",
       "    </tr>\n",
       "  </thead>\n",
       "  <tbody>\n",
       "    <tr>\n",
       "      <td>0</td>\n",
       "      <td>NaN</td>\n",
       "      <td>CUP</td>\n",
       "      <td>Psychological Medicine</td>\n",
       "      <td>Reduced parahippocampal cortical thickness in ...</td>\n",
       "      <td>£0.00</td>\n",
       "    </tr>\n",
       "    <tr>\n",
       "      <td>1</td>\n",
       "      <td>PMC3679557</td>\n",
       "      <td>ACS</td>\n",
       "      <td>Biomacromolecules</td>\n",
       "      <td>Structural characterization of a Model Gram-ne...</td>\n",
       "      <td>£2381.04</td>\n",
       "    </tr>\n",
       "    <tr>\n",
       "      <td>2</td>\n",
       "      <td>23043264  PMC3506128</td>\n",
       "      <td>ACS</td>\n",
       "      <td>J Med Chem</td>\n",
       "      <td>Fumaroylamino-4,5-epoxymorphinans and related ...</td>\n",
       "      <td>£642.56</td>\n",
       "    </tr>\n",
       "    <tr>\n",
       "      <td>3</td>\n",
       "      <td>23438330 PMC3646402</td>\n",
       "      <td>ACS</td>\n",
       "      <td>J Med Chem</td>\n",
       "      <td>Orvinols with mixed kappa/mu opioid receptor a...</td>\n",
       "      <td>£669.64</td>\n",
       "    </tr>\n",
       "    <tr>\n",
       "      <td>4</td>\n",
       "      <td>23438216 PMC3601604</td>\n",
       "      <td>ACS</td>\n",
       "      <td>J Org Chem</td>\n",
       "      <td>Regioselective opening of myo-inositol orthoes...</td>\n",
       "      <td>£685.88</td>\n",
       "    </tr>\n",
       "  </tbody>\n",
       "</table>\n",
       "</div>"
      ],
      "text/plain": [
       "              PMID/PMCID Publisher           Journal title  \\\n",
       "0                    NaN       CUP  Psychological Medicine   \n",
       "1             PMC3679557       ACS       Biomacromolecules   \n",
       "2  23043264  PMC3506128        ACS              J Med Chem   \n",
       "3    23438330 PMC3646402       ACS              J Med Chem   \n",
       "4   23438216 PMC3601604        ACS              J Org Chem   \n",
       "\n",
       "                                       Article title  \\\n",
       "0  Reduced parahippocampal cortical thickness in ...   \n",
       "1  Structural characterization of a Model Gram-ne...   \n",
       "2  Fumaroylamino-4,5-epoxymorphinans and related ...   \n",
       "3  Orvinols with mixed kappa/mu opioid receptor a...   \n",
       "4  Regioselective opening of myo-inositol orthoes...   \n",
       "\n",
       "  COST (£) charged to Wellcome (inc VAT when charged)  \n",
       "0                                              £0.00   \n",
       "1                                           £2381.04   \n",
       "2                                            £642.56   \n",
       "3                                            £669.64   \n",
       "4                                            £685.88   "
      ]
     },
     "execution_count": 5,
     "metadata": {},
     "output_type": "execute_result"
    }
   ],
   "source": [
    "df.head(5)"
   ]
  },
  {
   "cell_type": "code",
   "execution_count": 6,
   "metadata": {},
   "outputs": [
    {
     "data": {
      "text/html": [
       "<div>\n",
       "<style scoped>\n",
       "    .dataframe tbody tr th:only-of-type {\n",
       "        vertical-align: middle;\n",
       "    }\n",
       "\n",
       "    .dataframe tbody tr th {\n",
       "        vertical-align: top;\n",
       "    }\n",
       "\n",
       "    .dataframe thead th {\n",
       "        text-align: right;\n",
       "    }\n",
       "</style>\n",
       "<table border=\"1\" class=\"dataframe\">\n",
       "  <thead>\n",
       "    <tr style=\"text-align: right;\">\n",
       "      <th></th>\n",
       "      <th>PMID/PMCID</th>\n",
       "      <th>Publisher</th>\n",
       "      <th>Journal title</th>\n",
       "      <th>Article title</th>\n",
       "      <th>COST (£) charged to Wellcome (inc VAT when charged)</th>\n",
       "    </tr>\n",
       "  </thead>\n",
       "  <tbody>\n",
       "    <tr>\n",
       "      <td>2122</td>\n",
       "      <td>2901593</td>\n",
       "      <td>Wolters Kluwer Health</td>\n",
       "      <td>Circulation Research</td>\n",
       "      <td>Mechanistic Links Between Na+ Channel (SCN5A) ...</td>\n",
       "      <td>£1334.15</td>\n",
       "    </tr>\n",
       "    <tr>\n",
       "      <td>2123</td>\n",
       "      <td>3748854</td>\n",
       "      <td>Wolters Kluwer Health</td>\n",
       "      <td>AIDS</td>\n",
       "      <td>Evaluation of an empiric risk screening score ...</td>\n",
       "      <td>£1834.77</td>\n",
       "    </tr>\n",
       "    <tr>\n",
       "      <td>2124</td>\n",
       "      <td>3785148</td>\n",
       "      <td>Wolters Kluwer Health</td>\n",
       "      <td>Pediatr Infect Dis J</td>\n",
       "      <td>Topical umbilical cord care for prevention of ...</td>\n",
       "      <td>£1834.77</td>\n",
       "    </tr>\n",
       "    <tr>\n",
       "      <td>2125</td>\n",
       "      <td>PMCID:\\n    PMC3647051\\n</td>\n",
       "      <td>Wolters Kluwer N.V./Lippinott</td>\n",
       "      <td>AIDS</td>\n",
       "      <td>Grassroots Community Organisations' Contributi...</td>\n",
       "      <td>£2374.52</td>\n",
       "    </tr>\n",
       "    <tr>\n",
       "      <td>2126</td>\n",
       "      <td>PMID: 23846567  (Epub July 2013)</td>\n",
       "      <td>Wolters Kluwers</td>\n",
       "      <td>Journal of Acquired Immune Deficiency Syndromes</td>\n",
       "      <td>A novel community health worker tool outperfor...</td>\n",
       "      <td>£2034.75</td>\n",
       "    </tr>\n",
       "  </tbody>\n",
       "</table>\n",
       "</div>"
      ],
      "text/plain": [
       "                            PMID/PMCID                      Publisher  \\\n",
       "2122                           2901593          Wolters Kluwer Health   \n",
       "2123                           3748854         Wolters Kluwer Health    \n",
       "2124                           3785148         Wolters Kluwer Health    \n",
       "2125          PMCID:\\n    PMC3647051\\n  Wolters Kluwer N.V./Lippinott   \n",
       "2126  PMID: 23846567  (Epub July 2013)                Wolters Kluwers   \n",
       "\n",
       "                                        Journal title  \\\n",
       "2122                             Circulation Research   \n",
       "2123                                             AIDS   \n",
       "2124                             Pediatr Infect Dis J   \n",
       "2125                                             AIDS   \n",
       "2126  Journal of Acquired Immune Deficiency Syndromes   \n",
       "\n",
       "                                          Article title  \\\n",
       "2122  Mechanistic Links Between Na+ Channel (SCN5A) ...   \n",
       "2123  Evaluation of an empiric risk screening score ...   \n",
       "2124  Topical umbilical cord care for prevention of ...   \n",
       "2125  Grassroots Community Organisations' Contributi...   \n",
       "2126  A novel community health worker tool outperfor...   \n",
       "\n",
       "     COST (£) charged to Wellcome (inc VAT when charged)  \n",
       "2122                                           £1334.15   \n",
       "2123                                           £1834.77   \n",
       "2124                                           £1834.77   \n",
       "2125                                           £2374.52   \n",
       "2126                                           £2034.75   "
      ]
     },
     "execution_count": 6,
     "metadata": {},
     "output_type": "execute_result"
    }
   ],
   "source": [
    "df.tail(5)"
   ]
  },
  {
   "cell_type": "code",
   "execution_count": 7,
   "metadata": {},
   "outputs": [
    {
     "name": "stdout",
     "output_type": "stream",
     "text": [
      "<class 'pandas.core.frame.DataFrame'>\n",
      "RangeIndex: 2127 entries, 0 to 2126\n",
      "Data columns (total 5 columns):\n",
      "PMID/PMCID                                             1928 non-null object\n",
      "Publisher                                              2127 non-null object\n",
      "Journal title                                          2126 non-null object\n",
      "Article title                                          2127 non-null object\n",
      "COST (£) charged to Wellcome (inc VAT when charged)    2127 non-null object\n",
      "dtypes: object(5)\n",
      "memory usage: 83.2+ KB\n"
     ]
    }
   ],
   "source": [
    "df.info()"
   ]
  },
  {
   "cell_type": "code",
   "execution_count": 10,
   "metadata": {},
   "outputs": [],
   "source": [
    "df['Publisher'] = df['Publisher'].str.strip()\n",
    "df['Publisher'].replace(['ACS (Amercian Chemical Society) Publications', 'ACS', 'American Chemical Society', 'AMERICAN CHEMICAL SOCIETY', 'American Chemical Society Publications'], 'ACS Publications', inplace = True)\n",
    "df['Publisher'].replace(['The American Society for Biochemistry and Molecular Biology, Inc','American Soc for Biochemistry and Molecular Biology','The American Society for Biochemistry and Molecular Biology', 'American Society for Biochemistry and Molecular Biolgy'], 'American Society for Biochemistry and Molecular Biology', inplace = True)\n",
    "df['Publisher'].replace(['American Society of Haematology','American Society of Hamatology'], 'American Society of Hematology', inplace = True)\n",
    "df['Publisher'].replace(['American Society for Microbiology', 'ASM (American Society for Microbiology)','ASM'], 'American Society of Microbiology', inplace=True)\n",
    "df['Publisher'].replace(['ASBMB Cadmus', 'ASBMB/Cadmus', 'ASBMB/Cenveo Publisher Services', 'ASBMC /CENVEO'], 'ASBMB', inplace=True)\n",
    "df['Publisher'].replace('Benthan Science Publishers', 'Bentham Science Publishers', inplace=True)\n",
    "df['Publisher'].replace(['BioMed Central Limited', 'Biomed Central', 'BioMed central', 'BioMed Central'], 'BioMed Central Ltd', inplace=True)\n",
    "df['Publisher'].replace('BioScientifica', 'Bioscientifica', inplace=True)\n",
    "df['Publisher'].replace(['BMJ Group', 'BMJ group', 'BMJ Journals', 'BMJ Publishing Group', 'BMJ PUBLISHING GROUP', 'BMJ Publishing Group Ltd', 'BMJ Publishing Group Ltd & British Thoracic Society' ], 'BMJ', inplace=True)\n",
    "df['Publisher'].replace(['Cadmus', 'CADMUS JOURNAL SERVICE','Camdus Journal Services', 'CADMUS JOURNAL SERVICES'], 'Cadmus Journal Services', inplace=True)\n",
    "df['Publisher'].replace(['Cambridge Univ Press', 'Cambridge Uni Press'], 'Cambridge University Press', inplace=True)\n",
    "df['Publisher'].replace('Cenveo Publisher Services/ASM JV1', 'Cenveo Publisher services', inplace=True)    \n",
    "df['Publisher'].replace(['Cold Spring Habour Press', 'Cold Spring Harbor', 'Cold Spring Harbor Press','Cold Spring Harbor Publications' ], 'Cold Spring Harbor Laboratory Press', inplace=True)\n",
    "df['Publisher'].replace(['The company of Biolgists','THE COMPANY OF BIOLOGISTS','The company of Biologists', 'The Company of Biologists Ltd', 'Company of Biologist', 'Company of Biologists', 'Company of Biologists Ltd' ], 'The Company of Biologists', inplace=True)\n",
    "df['Publisher'].replace(['Darmouth Journal Services', 'Dartmouth Journals'], 'Dartmouth Journal Services', inplace=True)\n",
    "df['Publisher'].replace(['Elseveier Science', 'ELSEVIER','Elsevier (Cell Press)', 'Elsevier / Cell Science','Elsevier B.V.', 'Elsevier Ltd', 'Elsevier/Cell Press'], 'Elsevier', inplace=True)\n",
    "df['Publisher'].replace(['Federation of American Societies for Experimental Biology','Federation of American Societies for Experimental Biology (FASEB)', 'Federation of the American Society of Experimental Biology'], 'FASEB', inplace=True)\n",
    "df['Publisher'].replace(['Frontiers', 'Frontiers Media SA' ], 'Frontiers Media', inplace=True)\n",
    "df['Publisher'].replace(['Future Medicine Ltd'], 'Future Medicine', inplace=True)\n",
    "df['Publisher'].replace(['Hindawi Publishing Corporation'], 'Hindawi', inplace=True)\n",
    "df['Publisher'].replace(['Impact Journals LLC'], 'Impact Journals', inplace=True)\n",
    "df['Publisher'].replace(['Informa Healthcare communications'], 'Informa Healthcare', inplace=True)\n",
    "df['Publisher'].replace(['International Union Against tuberculosis and Lung Disease'],  'International Union Against Tuberculosis and Lung Disease', inplace=True)\n",
    "df['Publisher'].replace([  'International Union of Crystallography (iucr)'], 'International Union of Crystallography', inplace=True)\n",
    "df['Publisher'].replace(['Wliey-Blackwell','Wiley', 'Wiley & Son','Wiley Blackwell', 'Wiley Online Library', 'Wiley Subscription Services', 'Wiley Subscription Services  Inc.', 'Wiley Subscription Services Inc', 'Wiley Subscription Serviices Inc', 'Wiley VCH', 'Wiley/Blackwell', 'Wiley-Blackwell', 'Wiley-Blackwell, John Wiley & Sons', 'Wiley-VCH', 'Wliey-Blackwell''John Wiley', 'JOHN WILEY & SONS','John Wiley & Sons', 'John Wiley & Sons Inc',  'John Wiley & Sons Ltd', 'John Wiley & Sons, Inc.', 'John Wiley and Sons'], 'John Wiley and Sons Ltd', inplace=True)\n",
    "df['Publisher'].replace(['JoVE'], 'Journal of Visualized Experiments', inplace=True)\n",
    "df['Publisher'].replace(['KARGER'], 'Karger', inplace=True)\n",
    "df['Publisher'].replace(['Landes Biosciences'], 'Landes Bioscience', inplace=True)\n",
    "df['Publisher'].replace(['Mary Ann Liebert', 'MARY ANN LIEBERT INC', 'Mary Ann Liebert, Inc. Publishers'], 'Mary Ann Liebert, Inc.', inplace=True)\n",
    "df['Publisher'].replace(['MIT PRESS OPEN ACCESS'], 'MIT Press', inplace=True)\n",
    "df['Publisher'].replace(['MY JOVE CORP', 'My JOVE corporation','MYJoVE Corporation'], 'MYJoVE Corporation', inplace=True)\n",
    "df['Publisher'].replace(['National Academy of Sciences','National Academy of Sciences of the United States of America','National Academy of Sciences USA', 'National Academy of Sciences, USA'], 'National Academy of Sciences', inplace=True)\n",
    "df['Publisher'].replace(['Nature', 'Nature PG','Nature Publishing', 'Nature Publishing Group', 'Nature publishing group', 'NATURE PUBLISHING GROUP LTD', 'NPG'], 'Nature Publishing Group', inplace=True)\n",
    "df['Publisher'].replace(['Oxford Journals', 'Oxford Journals (OUP)', 'Oxford Univ Press','Oxford University Press', 'OXFORD UNIVERSITY PRESS','Oxford University Press (OUP)', 'Oxford Univesity Press'], 'Oxford University Press', inplace=True)\n",
    "df['Publisher'].replace(['PLOS','PLoS', 'Plos', 'PLoS (Public Library of Science)', 'PLoS Public Library of Science'], 'PLOS', inplace=True)\n",
    "df['Publisher'].replace(['PNAS Author Publication','Proceedings of the National Academy of Sciences (PNAS)'], 'PNAS', inplace=True)\n",
    "df['Publisher'].replace(['Portland Press', 'Portland press','PORTLAND PRESS LTD'], 'Portland Press Ltd', inplace=True)\n",
    "df['Publisher'].replace(['Royal Society', 'Royal Society for Chemistry','Royal Society of Chemistry', 'RSC', 'RSC Publishing'], 'Royal Society of Chemistry', inplace=True)\n",
    "df['Publisher'].replace(['SAGE', 'Sage', 'Sage Publications', 'SAGE Publications', 'Sage Publications Inc', 'Sage Publications Ltd', 'Sage Publishers', 'Sage Publishing'], 'SAGE Publications', inplace=True)\n",
    "df['Publisher'].replace([''], '', inplace=True)\n",
    "df['Publisher'].replace(['Society for Genermal Microbiology', 'Society of General Microbiology'], 'Society for General Microbiology', inplace=True)\n",
    "df['Publisher'].replace(['Society for Neurosciences', 'SOCIETY OF NEURO SCIENCES','Society of Neuroscience'], 'Society for Neuroscience', inplace=True)\n",
    "df['Publisher'].replace(['Society of Leukocyte Biology'], 'Society for Leukocyte Biology', inplace=True)\n",
    "df['Publisher'].replace(['Springer', 'Springer - Verlag GMBH','Springer Verlag','Springer-Veriag GmbH', 'SPRINGER-VERLAG GMBH','Springer-Verlag GmbH', 'Springer-Verlag GMBH & Ci','Springer-Verlag GmbH'], 'Springer-Verlag GmbH', inplace=True)\n",
    "df['Publisher'].replace(['T&F', 'Taylor & Francis', 'Taylor & Francis Journals','Taylor and Francis'], 'Taylor & Francis', inplace=True)\n",
    "df['Publisher'].replace(['Endocrine Society', 'The Endocrine Socety', 'The Endocrine Society', 'THE ENDOCRINE SOCIETY', 'The Endrocrine Society'], 'The Endocrine Society', inplace=True)\n",
    "df['Publisher'].replace(['The royal Society'], 'The Royal Society', inplace=True)\n",
    "df['Publisher'].replace(['Wolters Kluwer','Wolters Kluwer Health', 'Wolters Kluwer N.V./Lippinott', 'Wolters Kluwers'], 'Wolters Kluwer', inplace=True)\n",
    "df.Cost.replace('$', '', inplace=True)\n",
    "df.dropna(subset=['Publisher'], inplace=True)"
   ]
  },
  {
   "cell_type": "code",
   "execution_count": 11,
   "metadata": {},
   "outputs": [
    {
     "data": {
      "text/plain": [
       "Elsevier                          408\n",
       "Public Library of Science         278\n",
       "John Wiley and Sons Ltd           265\n",
       "Oxford University Press           111\n",
       "Springer-Verlag GmbH               92\n",
       "                                 ... \n",
       "Open Access Reg Ltd                 1\n",
       "Copyright Clearace Center           1\n",
       "Scientific Research Publishing      1\n",
       "Transcript Verlag                   1\n",
       "J Med Internet Research             1\n",
       "Name: Publisher, Length: 123, dtype: int64"
      ]
     },
     "execution_count": 11,
     "metadata": {},
     "output_type": "execute_result"
    }
   ],
   "source": [
    "df.Publisher.value_counts()"
   ]
  },
  {
   "cell_type": "code",
   "execution_count": 12,
   "metadata": {},
   "outputs": [],
   "source": [
    "df.columns = ['PMID/PMCID', 'Publisher', 'Journal title', 'Article title',\n",
    "       'Cost']"
   ]
  },
  {
   "cell_type": "code",
   "execution_count": 13,
   "metadata": {},
   "outputs": [
    {
     "data": {
      "text/plain": [
       "Index(['PMID/PMCID', 'Publisher', 'Journal title', 'Article title', 'Cost'], dtype='object')"
      ]
     },
     "execution_count": 13,
     "metadata": {},
     "output_type": "execute_result"
    }
   ],
   "source": [
    "df.columns"
   ]
  },
  {
   "cell_type": "code",
   "execution_count": 14,
   "metadata": {},
   "outputs": [],
   "source": [
    "df.Cost = df.Cost.str[1:]"
   ]
  },
  {
   "cell_type": "code",
   "execution_count": 15,
   "metadata": {},
   "outputs": [
    {
     "data": {
      "text/html": [
       "<div>\n",
       "<style scoped>\n",
       "    .dataframe tbody tr th:only-of-type {\n",
       "        vertical-align: middle;\n",
       "    }\n",
       "\n",
       "    .dataframe tbody tr th {\n",
       "        vertical-align: top;\n",
       "    }\n",
       "\n",
       "    .dataframe thead th {\n",
       "        text-align: right;\n",
       "    }\n",
       "</style>\n",
       "<table border=\"1\" class=\"dataframe\">\n",
       "  <thead>\n",
       "    <tr style=\"text-align: right;\">\n",
       "      <th></th>\n",
       "      <th>PMID/PMCID</th>\n",
       "      <th>Publisher</th>\n",
       "      <th>Journal title</th>\n",
       "      <th>Article title</th>\n",
       "      <th>Cost</th>\n",
       "    </tr>\n",
       "  </thead>\n",
       "  <tbody>\n",
       "    <tr>\n",
       "      <td>0</td>\n",
       "      <td>NaN</td>\n",
       "      <td>CUP</td>\n",
       "      <td>Psychological Medicine</td>\n",
       "      <td>Reduced parahippocampal cortical thickness in ...</td>\n",
       "      <td>0.00</td>\n",
       "    </tr>\n",
       "    <tr>\n",
       "      <td>1</td>\n",
       "      <td>PMC3679557</td>\n",
       "      <td>ACS Publications</td>\n",
       "      <td>Biomacromolecules</td>\n",
       "      <td>Structural characterization of a Model Gram-ne...</td>\n",
       "      <td>2381.04</td>\n",
       "    </tr>\n",
       "    <tr>\n",
       "      <td>2</td>\n",
       "      <td>23043264  PMC3506128</td>\n",
       "      <td>ACS Publications</td>\n",
       "      <td>J Med Chem</td>\n",
       "      <td>Fumaroylamino-4,5-epoxymorphinans and related ...</td>\n",
       "      <td>642.56</td>\n",
       "    </tr>\n",
       "    <tr>\n",
       "      <td>3</td>\n",
       "      <td>23438330 PMC3646402</td>\n",
       "      <td>ACS Publications</td>\n",
       "      <td>J Med Chem</td>\n",
       "      <td>Orvinols with mixed kappa/mu opioid receptor a...</td>\n",
       "      <td>669.64</td>\n",
       "    </tr>\n",
       "    <tr>\n",
       "      <td>4</td>\n",
       "      <td>23438216 PMC3601604</td>\n",
       "      <td>ACS Publications</td>\n",
       "      <td>J Org Chem</td>\n",
       "      <td>Regioselective opening of myo-inositol orthoes...</td>\n",
       "      <td>685.88</td>\n",
       "    </tr>\n",
       "  </tbody>\n",
       "</table>\n",
       "</div>"
      ],
      "text/plain": [
       "              PMID/PMCID         Publisher           Journal title  \\\n",
       "0                    NaN               CUP  Psychological Medicine   \n",
       "1             PMC3679557  ACS Publications       Biomacromolecules   \n",
       "2  23043264  PMC3506128   ACS Publications              J Med Chem   \n",
       "3    23438330 PMC3646402  ACS Publications              J Med Chem   \n",
       "4   23438216 PMC3601604   ACS Publications              J Org Chem   \n",
       "\n",
       "                                       Article title     Cost  \n",
       "0  Reduced parahippocampal cortical thickness in ...     0.00  \n",
       "1  Structural characterization of a Model Gram-ne...  2381.04  \n",
       "2  Fumaroylamino-4,5-epoxymorphinans and related ...   642.56  \n",
       "3  Orvinols with mixed kappa/mu opioid receptor a...   669.64  \n",
       "4  Regioselective opening of myo-inositol orthoes...   685.88  "
      ]
     },
     "execution_count": 15,
     "metadata": {},
     "output_type": "execute_result"
    }
   ],
   "source": [
    "df.head(5)"
   ]
  },
  {
   "cell_type": "code",
   "execution_count": 16,
   "metadata": {},
   "outputs": [],
   "source": [
    "df.Cost = df.Cost.str.replace(r'\\$', '')"
   ]
  },
  {
   "cell_type": "code",
   "execution_count": 19,
   "metadata": {},
   "outputs": [],
   "source": [
    "df.Cost = df.Cost.astype(float)"
   ]
  },
  {
   "cell_type": "code",
   "execution_count": 33,
   "metadata": {},
   "outputs": [],
   "source": [
    "df= df[df['Cost'] !=999999.00]"
   ]
  },
  {
   "cell_type": "code",
   "execution_count": 34,
   "metadata": {},
   "outputs": [
    {
     "data": {
      "text/plain": [
       "2008.499576923077"
      ]
     },
     "execution_count": 34,
     "metadata": {},
     "output_type": "execute_result"
    }
   ],
   "source": [
    "df.Cost.mean()"
   ]
  },
  {
   "cell_type": "code",
   "execution_count": 35,
   "metadata": {},
   "outputs": [
    {
     "data": {
      "text/plain": [
       "1851.65"
      ]
     },
     "execution_count": 35,
     "metadata": {},
     "output_type": "execute_result"
    }
   ],
   "source": [
    "df.Cost.median()"
   ]
  },
  {
   "cell_type": "code",
   "execution_count": 36,
   "metadata": {},
   "outputs": [
    {
     "data": {
      "text/plain": [
       "6101.564910321339"
      ]
     },
     "execution_count": 36,
     "metadata": {},
     "output_type": "execute_result"
    }
   ],
   "source": [
    "df.Cost.std()"
   ]
  },
  {
   "cell_type": "code",
   "execution_count": null,
   "metadata": {},
   "outputs": [],
   "source": []
  }
 ],
 "metadata": {
  "kernelspec": {
   "display_name": "Python 3",
   "language": "python",
   "name": "python3"
  },
  "language_info": {
   "codemirror_mode": {
    "name": "ipython",
    "version": 3
   },
   "file_extension": ".py",
   "mimetype": "text/x-python",
   "name": "python",
   "nbconvert_exporter": "python",
   "pygments_lexer": "ipython3",
   "version": "3.6.8"
  }
 },
 "nbformat": 4,
 "nbformat_minor": 2
}
